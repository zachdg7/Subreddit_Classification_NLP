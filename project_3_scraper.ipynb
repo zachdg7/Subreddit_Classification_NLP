{
 "cells": [
  {
   "cell_type": "markdown",
   "metadata": {},
   "source": [
    "# Imports"
   ]
  },
  {
   "cell_type": "code",
   "execution_count": 1,
   "metadata": {},
   "outputs": [],
   "source": [
    "import requests\n",
    "import pandas as pd\n",
    "import time"
   ]
  },
  {
   "cell_type": "markdown",
   "metadata": {},
   "source": [
    "# Scraping Loop"
   ]
  },
  {
   "cell_type": "code",
   "execution_count": 2,
   "metadata": {},
   "outputs": [
    {
     "name": "stdout",
     "output_type": "stream",
     "text": [
      "https://www.reddit.com/r/jokes.json\n",
      "https://www.reddit.com/r/jokes.json?after=t3_9dwxg2\n",
      "https://www.reddit.com/r/jokes.json?after=t3_9dwr11\n",
      "https://www.reddit.com/r/jokes.json?after=t3_9dw24a\n",
      "https://www.reddit.com/r/jokes.json?after=t3_9duviv\n",
      "https://www.reddit.com/r/jokes.json?after=t3_9dqek4\n",
      "https://www.reddit.com/r/jokes.json?after=t3_9drbyz\n",
      "https://www.reddit.com/r/jokes.json?after=t3_9dphyq\n",
      "https://www.reddit.com/r/jokes.json?after=t3_9duxak\n",
      "https://www.reddit.com/r/jokes.json?after=t3_9dg56e\n",
      "https://www.reddit.com/r/jokes.json?after=t3_9dgffa\n",
      "https://www.reddit.com/r/jokes.json?after=t3_9diton\n",
      "https://www.reddit.com/r/jokes.json?after=t3_9dhr9e\n",
      "https://www.reddit.com/r/jokes.json?after=t3_9dh34o\n",
      "https://www.reddit.com/r/jokes.json?after=t3_9dqli0\n",
      "https://www.reddit.com/r/jokes.json?after=t3_9dmq8l\n",
      "https://www.reddit.com/r/jokes.json?after=t3_9dfxko\n",
      "https://www.reddit.com/r/jokes.json?after=t3_9dmi6v\n",
      "https://www.reddit.com/r/jokes.json?after=t3_9dho00\n",
      "https://www.reddit.com/r/jokes.json?after=t3_9dmw27\n",
      "https://www.reddit.com/r/jokes.json?after=t3_9dloz0\n",
      "https://www.reddit.com/r/jokes.json?after=t3_9dks06\n",
      "https://www.reddit.com/r/jokes.json?after=t3_9der4v\n",
      "https://www.reddit.com/r/jokes.json?after=t3_9dcvry\n",
      "https://www.reddit.com/r/jokes.json?after=t3_9cuu7r\n",
      "https://www.reddit.com/r/jokes.json?after=t3_9de49m\n",
      "https://www.reddit.com/r/jokes.json?after=t3_9deby6\n",
      "https://www.reddit.com/r/jokes.json?after=t3_9d9bko\n",
      "https://www.reddit.com/r/jokes.json?after=t3_9d8o9p\n",
      "https://www.reddit.com/r/jokes.json?after=t3_9d3jvg\n",
      "https://www.reddit.com/r/jokes.json?after=t3_9cqwxg\n",
      "https://www.reddit.com/r/jokes.json?after=t3_9d08a0\n",
      "https://www.reddit.com/r/jokes.json?after=t3_9d7c4k\n",
      "https://www.reddit.com/r/jokes.json?after=t3_9d7uv2\n",
      "https://www.reddit.com/r/jokes.json?after=t3_9d1fhx\n",
      "https://www.reddit.com/r/jokes.json?after=t3_9d5b6m\n"
     ]
    }
   ],
   "source": [
    "# Scrape the API repeatedly\n",
    "url = 'https://www.reddit.com/r/jokes.json'\n",
    "posts = []\n",
    "after = None\n",
    "\n",
    "for _ in range(100):\n",
    "    \n",
    "    # Set the URL to the correct value\n",
    "    if after == None:\n",
    "        current_url = url\n",
    "        if _ != 0:\n",
    "            break\n",
    "    else:\n",
    "        current_url = url + '?after=' + after\n",
    "        \n",
    "    #get info about posts from the API\n",
    "    res = requests.get(current_url, headers = {'User-agent': 'Zachman'})\n",
    "    if res.status_code != 200:\n",
    "        print('Status code error!!!', res.status_code)\n",
    "        break\n",
    "    current_dict = res.json()\n",
    "    current_posts = [p['data'] for p in current_dict['data']['children']]\n",
    "    posts.extend(current_posts)\n",
    "    after = current_dict['data']['after']\n",
    "    \n",
    "    # print URL to give us feedback on progress, then give the API a rest\n",
    "    print(current_url)\n",
    "    time.sleep(1)"
   ]
  },
  {
   "cell_type": "markdown",
   "metadata": {},
   "source": [
    "# Prepare and Save"
   ]
  },
  {
   "cell_type": "code",
   "execution_count": 3,
   "metadata": {},
   "outputs": [
    {
     "data": {
      "text/plain": [
       "(894, 89)"
      ]
     },
     "execution_count": 3,
     "metadata": {},
     "output_type": "execute_result"
    }
   ],
   "source": [
    "# Convert to a dataframe\n",
    "subreddit_df = pd.DataFrame(posts) # to_csv('posts.csv', index = False)\n",
    "subreddit_df.shape"
   ]
  },
  {
   "cell_type": "code",
   "execution_count": 4,
   "metadata": {},
   "outputs": [],
   "source": [
    "# Save to csv\n",
    "subreddit_df.to_csv('jokes_posts.csv', index = False)"
   ]
  }
 ],
 "metadata": {
  "kernelspec": {
   "display_name": "Python 3",
   "language": "python",
   "name": "python3"
  },
  "language_info": {
   "codemirror_mode": {
    "name": "ipython",
    "version": 3
   },
   "file_extension": ".py",
   "mimetype": "text/x-python",
   "name": "python",
   "nbconvert_exporter": "python",
   "pygments_lexer": "ipython3",
   "version": "3.6.6"
  }
 },
 "nbformat": 4,
 "nbformat_minor": 2
}
