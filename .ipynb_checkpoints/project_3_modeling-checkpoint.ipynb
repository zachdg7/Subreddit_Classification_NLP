{
 "cells": [
  {
   "cell_type": "markdown",
   "metadata": {},
   "source": [
    "## Imports"
   ]
  },
  {
   "cell_type": "code",
   "execution_count": 1,
   "metadata": {},
   "outputs": [],
   "source": [
    "import pandas as pd\n",
    "import numpy as np\n",
    "import time\n",
    "import matplotlib.pyplot as plt\n",
    "\n",
    "from sklearn.feature_extraction.text import TfidfVectorizer, CountVectorizer, HashingVectorizer\n",
    "from sklearn.model_selection import train_test_split, cross_val_score, GridSearchCV\n",
    "from sklearn.ensemble import RandomForestClassifier, AdaBoostClassifier, GradientBoostingClassifier, ExtraTreesClassifier\n",
    "from sklearn.neighbors import KNeighborsClassifier\n",
    "from sklearn.linear_model import LogisticRegression\n",
    "from sklearn.naive_bayes import GaussianNB, MultinomialNB\n",
    "from sklearn import svm\n",
    "from sklearn.metrics import confusion_matrix, roc_curve, auc, accuracy_score\n",
    "\n",
    "import nltk\n",
    "from nltk.stem.porter import PorterStemmer\n",
    "from nltk.stem import WordNetLemmatizer\n",
    "\n",
    "%matplotlib inline"
   ]
  },
  {
   "cell_type": "code",
   "execution_count": 2,
   "metadata": {},
   "outputs": [],
   "source": [
    "# Let's see how long this takes to run\n",
    "run_start = time.time()"
   ]
  },
  {
   "cell_type": "markdown",
   "metadata": {},
   "source": [
    "# Prepare Data"
   ]
  },
  {
   "cell_type": "code",
   "execution_count": 3,
   "metadata": {},
   "outputs": [],
   "source": [
    "# read the csv files\n",
    "#     subreddits: history jokes science research\n",
    "\n",
    "target_subred_df = pd.read_csv('history_posts.csv')\n",
    "alt_subred_df = pd.read_csv('science_posts.csv')"
   ]
  },
  {
   "cell_type": "code",
   "execution_count": 4,
   "metadata": {},
   "outputs": [
    {
     "data": {
      "text/plain": [
       "(666, 94)"
      ]
     },
     "execution_count": 4,
     "metadata": {},
     "output_type": "execute_result"
    }
   ],
   "source": [
    "# balance classes by removing extra posts in history (undersampling)\n",
    "alt_subred_df = alt_subred_df.head(target_subred_df.shape[0])\n",
    "alt_subred_df.shape"
   ]
  },
  {
   "cell_type": "code",
   "execution_count": 5,
   "metadata": {},
   "outputs": [],
   "source": [
    "# only include the columns we're interested in\n",
    "target_subred_df = target_subred_df[['title', 'ups', 'downs', 'num_comments', 'selftext']]\n",
    "alt_subred_df = alt_subred_df[['title', 'ups', 'downs', 'num_comments', 'selftext']]\n",
    "\n",
    "# assign target variable\n",
    "target_subred_df['is_target'] = 1\n",
    "alt_subred_df['is_target'] = 0"
   ]
  },
  {
   "cell_type": "code",
   "execution_count": 6,
   "metadata": {},
   "outputs": [],
   "source": [
    "# combine into one df\n",
    "master_df = pd.concat([target_subred_df, alt_subred_df])\n",
    "master_df.reset_index(drop=True, inplace=True)"
   ]
  },
  {
   "cell_type": "markdown",
   "metadata": {},
   "source": [
    "# Tokenizing and Vectorizing"
   ]
  },
  {
   "cell_type": "code",
   "execution_count": 7,
   "metadata": {},
   "outputs": [],
   "source": [
    "# make a list of all the words in the train set\n",
    "from nltk.tokenize import RegexpTokenizer\n",
    "tokenizer = RegexpTokenizer(r'\\w+')\n",
    "title_lists = []\n",
    "\n",
    "stemmer = PorterStemmer()\n",
    "\n",
    "# loop through each title and stem\n",
    "for title in master_df['title']:\n",
    "    title_words =  tokenizer.tokenize(title.lower())\n",
    "    title_str = ''\n",
    "    for word in title_words:\n",
    "        token = stemmer.stem(word)\n",
    "        title_str = title_str + token + ' '\n",
    "    title_lists.append(title_str)\n",
    "\n",
    "token_col = pd.Series(title_lists)"
   ]
  },
  {
   "cell_type": "code",
   "execution_count": 8,
   "metadata": {},
   "outputs": [],
   "source": [
    "# create X and y\n",
    "X = token_col\n",
    "y = master_df['is_target']\n",
    "\n",
    "# train-test-split\n",
    "text_X_train, text_X_test, y_train, y_test = train_test_split(X, y, stratify = y)"
   ]
  },
  {
   "cell_type": "code",
   "execution_count": 9,
   "metadata": {},
   "outputs": [],
   "source": [
    "# who you callin' corpus\n",
    "train_corpus = list(text_X_train)\n",
    "test_corpus = list(text_X_test)"
   ]
  },
  {
   "cell_type": "code",
   "execution_count": 10,
   "metadata": {},
   "outputs": [],
   "source": [
    "# Vectorize\n",
    "vect = TfidfVectorizer(ngram_range=(1,3), max_features=1500, stop_words=['research'])\n",
    "raw_vec_train = vect.fit_transform(train_corpus)\n",
    "X_train = pd.DataFrame(raw_vec_train.toarray(), columns = vect.get_feature_names())\n",
    "\n",
    "# Do the same thing for the test set\n",
    "raw_vec_test = vect.transform(test_corpus)\n",
    "X_test = pd.DataFrame(raw_vec_test.toarray(), columns = vect.get_feature_names())"
   ]
  },
  {
   "cell_type": "markdown",
   "metadata": {},
   "source": [
    "<hr>\n",
    "\n",
    "# Functions:"
   ]
  },
  {
   "cell_type": "markdown",
   "metadata": {},
   "source": [
    "### Define Model Fitting Function"
   ]
  },
  {
   "cell_type": "code",
   "execution_count": 11,
   "metadata": {},
   "outputs": [],
   "source": [
    "index_labels = ['Test score','Train score', 'Sensitivity', 'Specificity', 'Precision', \n",
    "                'Best Params', 'Params Tried', 'Notes']\n",
    "\n",
    "all_results = pd.DataFrame(index=index_labels)\n",
    "\n",
    "# set dataframe options to display long strings rather than truncating them\n",
    "pd.set_option('display.max_colwidth', 10000)"
   ]
  },
  {
   "cell_type": "code",
   "execution_count": 12,
   "metadata": {
    "scrolled": true
   },
   "outputs": [],
   "source": [
    "def fit_model(model, model_name, params, all_results, notes): # all_params\n",
    "    start_time = time.time()\n",
    "\n",
    "    # fit the model\n",
    "    model = GridSearchCV(model, params, n_jobs=-1, cv = 3)\n",
    "    model.fit(X_train, y_train)\n",
    "    \n",
    "    # pick out the best model\n",
    "    best_model = model.best_estimator_\n",
    "    \n",
    "    # make the confusion matrix\n",
    "    pred = best_model.predict(X_test)\n",
    "    tn, fp, fn, tp = confusion_matrix(y_test, pred).ravel()\n",
    "    \n",
    "    # Calculate results\n",
    "    result = pd.DataFrame(index = index_labels, columns=[model_name])\n",
    "    result.loc['Test score'][model_name] = round(best_model.score(X_test, y_test), 3)\n",
    "    result.loc['Train score'][model_name] = round(model.best_score_, 3)\n",
    "    result.loc['Sensitivity'][model_name] = round(tp/(tp+fn), 3)\n",
    "    result.loc['Specificity'][model_name] = round(tn/(tn+fp), 3)\n",
    "    result.loc['Precision'][model_name] = round(tp/(tp+fp), 3)\n",
    "    \n",
    "    # Parameters and Notes\n",
    "    result.loc['Best Params'][model_name] = model.best_params_\n",
    "    result.loc['Params Tried'][model_name] = params\n",
    "    result.loc['Notes'][model_name] = notes\n",
    "\n",
    "    # display test results\n",
    "    display(result.head(result.shape[0]-3))\n",
    "    \n",
    "    # display parameters and notes\n",
    "    display(result.tail(3))     \n",
    "\n",
    "    # add results and params to all_results and all_params\n",
    "    all_results = pd.concat([all_results, result], axis=1)\n",
    "\n",
    "    # Create the confusion matrix\n",
    "    total = (tp + tn + fp + fn)\n",
    "    confusion = pd.DataFrame(index= ['Pred. Positive','Pred. Negative', 'Total'])\n",
    "    confusion['Act. Positive'] = str(round(tp/total*100, 1))+'%', str(round(fn/total*100, 1))+'%', (tp + fn)\n",
    "    confusion['Act. Negative'] = str(round(fp/total*100, 1))+'%', str(round(tn/total*100, 1))+'%', (fp + tn)\n",
    "    confusion['Total'] = (tp + fp), (fn + tn), total\n",
    "    display(confusion)\n",
    "    \n",
    "    # print the runtime\n",
    "    end_time = time.time()\n",
    "    print('Runtime: ', round((end_time - start_time)/60, 3), ' minutes')\n",
    "    return all_results, best_model, pred"
   ]
  },
  {
   "cell_type": "markdown",
   "metadata": {},
   "source": [
    "### ROC Curve Plotting Function"
   ]
  },
  {
   "cell_type": "code",
   "execution_count": 13,
   "metadata": {},
   "outputs": [],
   "source": [
    "# ROC-AUC curve\n",
    "def make_roc(y_test, best_model):\n",
    "\n",
    "    # make predicted probabilities to be returned for use in the ROC Curve\n",
    "    y_hat_proba = best_model.predict_proba(X_test)\n",
    "\n",
    "    # Generate False positive rate and True positive rate\n",
    "    fpr, tpr, _ = roc_curve(y_test, y_hat_proba[:,1])\n",
    "    roc_auc = auc(fpr, tpr)\n",
    "\n",
    "    # Plot settings\n",
    "    plt.figure(figsize=(6, 4))\n",
    "    line_width = 4\n",
    "    \n",
    "    plt.title('ROC Curve', fontsize=25, position = (0.2,1))\n",
    "    plt.ylabel('True Positive Rate')\n",
    "    plt.xlabel('False Positive Rate')\n",
    "    \n",
    "    string = 'Area Under Curve: ' + str(round(roc_auc, 3))\n",
    "    plt.text(x=1, y=0.05, s=string, horizontalalignment='right')\n",
    "    \n",
    "    plt.grid(True)\n",
    "    plt.plot(fpr, tpr, lw = line_width)\n",
    "    plt.plot([0, 1], [0,1], lw = line_width, linestyle = '--');"
   ]
  },
  {
   "cell_type": "markdown",
   "metadata": {},
   "source": [
    "<hr>\n",
    " \n",
    " # Models:"
   ]
  },
  {
   "cell_type": "markdown",
   "metadata": {},
   "source": [
    "## Naive Bayes"
   ]
  },
  {
   "cell_type": "code",
   "execution_count": 14,
   "metadata": {},
   "outputs": [
    {
     "data": {
      "text/html": [
       "<div>\n",
       "<style scoped>\n",
       "    .dataframe tbody tr th:only-of-type {\n",
       "        vertical-align: middle;\n",
       "    }\n",
       "\n",
       "    .dataframe tbody tr th {\n",
       "        vertical-align: top;\n",
       "    }\n",
       "\n",
       "    .dataframe thead th {\n",
       "        text-align: right;\n",
       "    }\n",
       "</style>\n",
       "<table border=\"1\" class=\"dataframe\">\n",
       "  <thead>\n",
       "    <tr style=\"text-align: right;\">\n",
       "      <th></th>\n",
       "      <th>Naive Bayes</th>\n",
       "    </tr>\n",
       "  </thead>\n",
       "  <tbody>\n",
       "    <tr>\n",
       "      <th>Test score</th>\n",
       "      <td>0.916</td>\n",
       "    </tr>\n",
       "    <tr>\n",
       "      <th>Train score</th>\n",
       "      <td>0.903</td>\n",
       "    </tr>\n",
       "    <tr>\n",
       "      <th>Sensitivity</th>\n",
       "      <td>0.911</td>\n",
       "    </tr>\n",
       "    <tr>\n",
       "      <th>Specificity</th>\n",
       "      <td>0.922</td>\n",
       "    </tr>\n",
       "    <tr>\n",
       "      <th>Precision</th>\n",
       "      <td>0.946</td>\n",
       "    </tr>\n",
       "  </tbody>\n",
       "</table>\n",
       "</div>"
      ],
      "text/plain": [
       "            Naive Bayes\n",
       "Test score        0.916\n",
       "Train score       0.903\n",
       "Sensitivity       0.911\n",
       "Specificity       0.922\n",
       "Precision         0.946"
      ]
     },
     "metadata": {},
     "output_type": "display_data"
    },
    {
     "data": {
      "text/html": [
       "<div>\n",
       "<style scoped>\n",
       "    .dataframe tbody tr th:only-of-type {\n",
       "        vertical-align: middle;\n",
       "    }\n",
       "\n",
       "    .dataframe tbody tr th {\n",
       "        vertical-align: top;\n",
       "    }\n",
       "\n",
       "    .dataframe thead th {\n",
       "        text-align: right;\n",
       "    }\n",
       "</style>\n",
       "<table border=\"1\" class=\"dataframe\">\n",
       "  <thead>\n",
       "    <tr style=\"text-align: right;\">\n",
       "      <th></th>\n",
       "      <th>Naive Bayes</th>\n",
       "    </tr>\n",
       "  </thead>\n",
       "  <tbody>\n",
       "    <tr>\n",
       "      <th>Best Params</th>\n",
       "      <td>{'priors': None}</td>\n",
       "    </tr>\n",
       "    <tr>\n",
       "      <th>Params Tried</th>\n",
       "      <td>{'priors': [None]}</td>\n",
       "    </tr>\n",
       "    <tr>\n",
       "      <th>Notes</th>\n",
       "      <td></td>\n",
       "    </tr>\n",
       "  </tbody>\n",
       "</table>\n",
       "</div>"
      ],
      "text/plain": [
       "                     Naive Bayes\n",
       "Best Params     {'priors': None}\n",
       "Params Tried  {'priors': [None]}\n",
       "Notes                           "
      ]
     },
     "metadata": {},
     "output_type": "display_data"
    },
    {
     "data": {
      "text/html": [
       "<div>\n",
       "<style scoped>\n",
       "    .dataframe tbody tr th:only-of-type {\n",
       "        vertical-align: middle;\n",
       "    }\n",
       "\n",
       "    .dataframe tbody tr th {\n",
       "        vertical-align: top;\n",
       "    }\n",
       "\n",
       "    .dataframe thead th {\n",
       "        text-align: right;\n",
       "    }\n",
       "</style>\n",
       "<table border=\"1\" class=\"dataframe\">\n",
       "  <thead>\n",
       "    <tr style=\"text-align: right;\">\n",
       "      <th></th>\n",
       "      <th>Act. Positive</th>\n",
       "      <th>Act. Negative</th>\n",
       "      <th>Total</th>\n",
       "    </tr>\n",
       "  </thead>\n",
       "  <tbody>\n",
       "    <tr>\n",
       "      <th>Pred. Positive</th>\n",
       "      <td>54.5%</td>\n",
       "      <td>3.1%</td>\n",
       "      <td>239</td>\n",
       "    </tr>\n",
       "    <tr>\n",
       "      <th>Pred. Negative</th>\n",
       "      <td>5.3%</td>\n",
       "      <td>37.1%</td>\n",
       "      <td>176</td>\n",
       "    </tr>\n",
       "    <tr>\n",
       "      <th>Total</th>\n",
       "      <td>248</td>\n",
       "      <td>167</td>\n",
       "      <td>415</td>\n",
       "    </tr>\n",
       "  </tbody>\n",
       "</table>\n",
       "</div>"
      ],
      "text/plain": [
       "               Act. Positive Act. Negative  Total\n",
       "Pred. Positive         54.5%          3.1%    239\n",
       "Pred. Negative          5.3%         37.1%    176\n",
       "Total                    248           167    415"
      ]
     },
     "metadata": {},
     "output_type": "display_data"
    },
    {
     "name": "stdout",
     "output_type": "stream",
     "text": [
      "Runtime:  0.045  minutes\n"
     ]
    },
    {
     "data": {
      "image/png": "[encoded data removed]",
      "text/plain": [
       "<Figure size 432x288 with 1 Axes>"
      ]
     },
     "metadata": {
      "needs_background": "light"
     },
     "output_type": "display_data"
    }
   ],
   "source": [
    "# Naive Bayes\n",
    "#     GaussianNB() if tfidf\n",
    "#     MultinomialNB() if countvec\n",
    "\n",
    "# set parameters\n",
    "nb_params = {'priors': [None]}\n",
    "\n",
    "# Any notes to add?\n",
    "nb_notes = ''\n",
    "\n",
    "# call the fit_model function\n",
    "all_results, nb_best_model, nb_preds = fit_model(GaussianNB(), 'Naive Bayes',\n",
    "                                                 nb_params, all_results, nb_notes\n",
    "                                                )\n",
    "\n",
    "# Plot ROC Curve with make_roc function\n",
    "make_roc(y_test, nb_best_model)"
   ]
  },
  {
   "cell_type": "markdown",
   "metadata": {},
   "source": [
    "## Logisitic regression"
   ]
  },
  {
   "cell_type": "code",
   "execution_count": 15,
   "metadata": {
    "scrolled": true
   },
   "outputs": [
    {
     "name": "stderr",
     "output_type": "stream",
     "text": [
      "/Users/zachgreen/anaconda3/lib/python3.6/site-packages/sklearn/linear_model/logistic.py:432: FutureWarning: Default solver will be changed to 'lbfgs' in 0.22. Specify a solver to silence this warning.\n",
      "  FutureWarning)\n"
     ]
    },
    {
     "data": {
      "text/html": [
       "<div>\n",
       "<style scoped>\n",
       "    .dataframe tbody tr th:only-of-type {\n",
       "        vertical-align: middle;\n",
       "    }\n",
       "\n",
       "    .dataframe tbody tr th {\n",
       "        vertical-align: top;\n",
       "    }\n",
       "\n",
       "    .dataframe thead th {\n",
       "        text-align: right;\n",
       "    }\n",
       "</style>\n",
       "<table border=\"1\" class=\"dataframe\">\n",
       "  <thead>\n",
       "    <tr style=\"text-align: right;\">\n",
       "      <th></th>\n",
       "      <th>Logistic</th>\n",
       "    </tr>\n",
       "  </thead>\n",
       "  <tbody>\n",
       "    <tr>\n",
       "      <th>Test score</th>\n",
       "      <td>0.933</td>\n",
       "    </tr>\n",
       "    <tr>\n",
       "      <th>Train score</th>\n",
       "      <td>0.933</td>\n",
       "    </tr>\n",
       "    <tr>\n",
       "      <th>Sensitivity</th>\n",
       "      <td>0.96</td>\n",
       "    </tr>\n",
       "    <tr>\n",
       "      <th>Specificity</th>\n",
       "      <td>0.892</td>\n",
       "    </tr>\n",
       "    <tr>\n",
       "      <th>Precision</th>\n",
       "      <td>0.93</td>\n",
       "    </tr>\n",
       "  </tbody>\n",
       "</table>\n",
       "</div>"
      ],
      "text/plain": [
       "            Logistic\n",
       "Test score     0.933\n",
       "Train score    0.933\n",
       "Sensitivity     0.96\n",
       "Specificity    0.892\n",
       "Precision       0.93"
      ]
     },
     "metadata": {},
     "output_type": "display_data"
    },
    {
     "data": {
      "text/html": [
       "<div>\n",
       "<style scoped>\n",
       "    .dataframe tbody tr th:only-of-type {\n",
       "        vertical-align: middle;\n",
       "    }\n",
       "\n",
       "    .dataframe tbody tr th {\n",
       "        vertical-align: top;\n",
       "    }\n",
       "\n",
       "    .dataframe thead th {\n",
       "        text-align: right;\n",
       "    }\n",
       "</style>\n",
       "<table border=\"1\" class=\"dataframe\">\n",
       "  <thead>\n",
       "    <tr style=\"text-align: right;\">\n",
       "      <th></th>\n",
       "      <th>Logistic</th>\n",
       "    </tr>\n",
       "  </thead>\n",
       "  <tbody>\n",
       "    <tr>\n",
       "      <th>Best Params</th>\n",
       "      <td>{'C': 10, 'penalty': 'l2'}</td>\n",
       "    </tr>\n",
       "    <tr>\n",
       "      <th>Params Tried</th>\n",
       "      <td>{'penalty': ['l2', 'l1'], 'C': [1, 10, 25, 40, 50, 60, 75, 90, 100, 250]}</td>\n",
       "    </tr>\n",
       "    <tr>\n",
       "      <th>Notes</th>\n",
       "      <td></td>\n",
       "    </tr>\n",
       "  </tbody>\n",
       "</table>\n",
       "</div>"
      ],
      "text/plain": [
       "                                                                               Logistic\n",
       "Best Params                                                  {'C': 10, 'penalty': 'l2'}\n",
       "Params Tried  {'penalty': ['l2', 'l1'], 'C': [1, 10, 25, 40, 50, 60, 75, 90, 100, 250]}\n",
       "Notes                                                                                  "
      ]
     },
     "metadata": {},
     "output_type": "display_data"
    },
    {
     "data": {
      "text/html": [
       "<div>\n",
       "<style scoped>\n",
       "    .dataframe tbody tr th:only-of-type {\n",
       "        vertical-align: middle;\n",
       "    }\n",
       "\n",
       "    .dataframe tbody tr th {\n",
       "        vertical-align: top;\n",
       "    }\n",
       "\n",
       "    .dataframe thead th {\n",
       "        text-align: right;\n",
       "    }\n",
       "</style>\n",
       "<table border=\"1\" class=\"dataframe\">\n",
       "  <thead>\n",
       "    <tr style=\"text-align: right;\">\n",
       "      <th></th>\n",
       "      <th>Act. Positive</th>\n",
       "      <th>Act. Negative</th>\n",
       "      <th>Total</th>\n",
       "    </tr>\n",
       "  </thead>\n",
       "  <tbody>\n",
       "    <tr>\n",
       "      <th>Pred. Positive</th>\n",
       "      <td>57.3%</td>\n",
       "      <td>4.3%</td>\n",
       "      <td>256</td>\n",
       "    </tr>\n",
       "    <tr>\n",
       "      <th>Pred. Negative</th>\n",
       "      <td>2.4%</td>\n",
       "      <td>35.9%</td>\n",
       "      <td>159</td>\n",
       "    </tr>\n",
       "    <tr>\n",
       "      <th>Total</th>\n",
       "      <td>248</td>\n",
       "      <td>167</td>\n",
       "      <td>415</td>\n",
       "    </tr>\n",
       "  </tbody>\n",
       "</table>\n",
       "</div>"
      ],
      "text/plain": [
       "               Act. Positive Act. Negative  Total\n",
       "Pred. Positive         57.3%          4.3%    256\n",
       "Pred. Negative          2.4%         35.9%    159\n",
       "Total                    248           167    415"
      ]
     },
     "metadata": {},
     "output_type": "display_data"
    },
    {
     "name": "stdout",
     "output_type": "stream",
     "text": [
      "Runtime:  0.042  minutes\n"
     ]
    },
    {
     "data": {
      "image/png": "[encoded data removed]",
      "text/plain": [
       "<Figure size 432x288 with 1 Axes>"
      ]
     },
     "metadata": {
      "needs_background": "light"
     },
     "output_type": "display_data"
    }
   ],
   "source": [
    "# Logisitic regression\n",
    "lr_params = {\n",
    "    'penalty': ['l2', 'l1'],\n",
    "    'C': [1, 10, 25, 40, 50, 60, 75, 90, 100, 250]\n",
    "}\n",
    "\n",
    "# Any notes to add?\n",
    "lr_notes = ''\n",
    "\n",
    "all_results, lr_best_model, lr_preds = fit_model(LogisticRegression(), 'Logistic',\n",
    "                                                 lr_params, all_results, lr_notes\n",
    "                                                )\n",
    "\n",
    "# Plot ROC Curve with make_roc function\n",
    "make_roc(y_test, lr_best_model)"
   ]
  },
  {
   "cell_type": "markdown",
   "metadata": {},
   "source": [
    "## Support Vector Machine"
   ]
  },
  {
   "cell_type": "code",
   "execution_count": 16,
   "metadata": {},
   "outputs": [
    {
     "data": {
      "text/html": [
       "<div>\n",
       "<style scoped>\n",
       "    .dataframe tbody tr th:only-of-type {\n",
       "        vertical-align: middle;\n",
       "    }\n",
       "\n",
       "    .dataframe tbody tr th {\n",
       "        vertical-align: top;\n",
       "    }\n",
       "\n",
       "    .dataframe thead th {\n",
       "        text-align: right;\n",
       "    }\n",
       "</style>\n",
       "<table border=\"1\" class=\"dataframe\">\n",
       "  <thead>\n",
       "    <tr style=\"text-align: right;\">\n",
       "      <th></th>\n",
       "      <th>SVM</th>\n",
       "    </tr>\n",
       "  </thead>\n",
       "  <tbody>\n",
       "    <tr>\n",
       "      <th>Test score</th>\n",
       "      <td>0.942</td>\n",
       "    </tr>\n",
       "    <tr>\n",
       "      <th>Train score</th>\n",
       "      <td>0.933</td>\n",
       "    </tr>\n",
       "    <tr>\n",
       "      <th>Sensitivity</th>\n",
       "      <td>0.964</td>\n",
       "    </tr>\n",
       "    <tr>\n",
       "      <th>Specificity</th>\n",
       "      <td>0.91</td>\n",
       "    </tr>\n",
       "    <tr>\n",
       "      <th>Precision</th>\n",
       "      <td>0.941</td>\n",
       "    </tr>\n",
       "  </tbody>\n",
       "</table>\n",
       "</div>"
      ],
      "text/plain": [
       "               SVM\n",
       "Test score   0.942\n",
       "Train score  0.933\n",
       "Sensitivity  0.964\n",
       "Specificity   0.91\n",
       "Precision    0.941"
      ]
     },
     "metadata": {},
     "output_type": "display_data"
    },
    {
     "data": {
      "text/html": [
       "<div>\n",
       "<style scoped>\n",
       "    .dataframe tbody tr th:only-of-type {\n",
       "        vertical-align: middle;\n",
       "    }\n",
       "\n",
       "    .dataframe tbody tr th {\n",
       "        vertical-align: top;\n",
       "    }\n",
       "\n",
       "    .dataframe thead th {\n",
       "        text-align: right;\n",
       "    }\n",
       "</style>\n",
       "<table border=\"1\" class=\"dataframe\">\n",
       "  <thead>\n",
       "    <tr style=\"text-align: right;\">\n",
       "      <th></th>\n",
       "      <th>SVM</th>\n",
       "    </tr>\n",
       "  </thead>\n",
       "  <tbody>\n",
       "    <tr>\n",
       "      <th>Best Params</th>\n",
       "      <td>{'C': 1.1, 'kernel': 'linear'}</td>\n",
       "    </tr>\n",
       "    <tr>\n",
       "      <th>Params Tried</th>\n",
       "      <td>{'C': [1.1, 1.15, 1.2, 1.3, 1.5], 'kernel': ['linear', 'poly', 'rbf']}</td>\n",
       "    </tr>\n",
       "    <tr>\n",
       "      <th>Notes</th>\n",
       "      <td></td>\n",
       "    </tr>\n",
       "  </tbody>\n",
       "</table>\n",
       "</div>"
      ],
      "text/plain": [
       "                                                                                 SVM\n",
       "Best Params                                           {'C': 1.1, 'kernel': 'linear'}\n",
       "Params Tried  {'C': [1.1, 1.15, 1.2, 1.3, 1.5], 'kernel': ['linear', 'poly', 'rbf']}\n",
       "Notes                                                                               "
      ]
     },
     "metadata": {},
     "output_type": "display_data"
    },
    {
     "data": {
      "text/html": [
       "<div>\n",
       "<style scoped>\n",
       "    .dataframe tbody tr th:only-of-type {\n",
       "        vertical-align: middle;\n",
       "    }\n",
       "\n",
       "    .dataframe tbody tr th {\n",
       "        vertical-align: top;\n",
       "    }\n",
       "\n",
       "    .dataframe thead th {\n",
       "        text-align: right;\n",
       "    }\n",
       "</style>\n",
       "<table border=\"1\" class=\"dataframe\">\n",
       "  <thead>\n",
       "    <tr style=\"text-align: right;\">\n",
       "      <th></th>\n",
       "      <th>Act. Positive</th>\n",
       "      <th>Act. Negative</th>\n",
       "      <th>Total</th>\n",
       "    </tr>\n",
       "  </thead>\n",
       "  <tbody>\n",
       "    <tr>\n",
       "      <th>Pred. Positive</th>\n",
       "      <td>57.6%</td>\n",
       "      <td>3.6%</td>\n",
       "      <td>254</td>\n",
       "    </tr>\n",
       "    <tr>\n",
       "      <th>Pred. Negative</th>\n",
       "      <td>2.2%</td>\n",
       "      <td>36.6%</td>\n",
       "      <td>161</td>\n",
       "    </tr>\n",
       "    <tr>\n",
       "      <th>Total</th>\n",
       "      <td>248</td>\n",
       "      <td>167</td>\n",
       "      <td>415</td>\n",
       "    </tr>\n",
       "  </tbody>\n",
       "</table>\n",
       "</div>"
      ],
      "text/plain": [
       "               Act. Positive Act. Negative  Total\n",
       "Pred. Positive         57.6%          3.6%    254\n",
       "Pred. Negative          2.2%         36.6%    161\n",
       "Total                    248           167    415"
      ]
     },
     "metadata": {},
     "output_type": "display_data"
    },
    {
     "name": "stdout",
     "output_type": "stream",
     "text": [
      "Runtime:  1.883  minutes\n"
     ]
    },
    {
     "data": {
      "image/png": "[encoded data removed]",
      "text/plain": [
       "<Figure size 432x288 with 1 Axes>"
      ]
     },
     "metadata": {
      "needs_background": "light"
     },
     "output_type": "display_data"
    }
   ],
   "source": [
    "# SVM\n",
    "svm_params = {\n",
    "    'C': [1.1, 1.15, 1.2, 1.3, 1.5],\n",
    "    'kernel': ['linear', 'poly', 'rbf'],\n",
    "}\n",
    "\n",
    "# Any notes to add?\n",
    "svm_notes = ''\n",
    "\n",
    "all_results, svm_best_model, svm_preds = fit_model(svm.SVC(probability=True), 'SVM',\n",
    "                                                   svm_params, all_results, svm_notes\n",
    "                                                  )\n",
    "\n",
    "\n",
    "# Plot ROC Curve with make_roc function\n",
    "make_roc(y_test, svm_best_model)"
   ]
  },
  {
   "cell_type": "markdown",
   "metadata": {},
   "source": [
    "## KNN"
   ]
  },
  {
   "cell_type": "code",
   "execution_count": 17,
   "metadata": {
    "scrolled": false
   },
   "outputs": [
    {
     "data": {
      "text/html": [
       "<div>\n",
       "<style scoped>\n",
       "    .dataframe tbody tr th:only-of-type {\n",
       "        vertical-align: middle;\n",
       "    }\n",
       "\n",
       "    .dataframe tbody tr th {\n",
       "        vertical-align: top;\n",
       "    }\n",
       "\n",
       "    .dataframe thead th {\n",
       "        text-align: right;\n",
       "    }\n",
       "</style>\n",
       "<table border=\"1\" class=\"dataframe\">\n",
       "  <thead>\n",
       "    <tr style=\"text-align: right;\">\n",
       "      <th></th>\n",
       "      <th>KNN</th>\n",
       "    </tr>\n",
       "  </thead>\n",
       "  <tbody>\n",
       "    <tr>\n",
       "      <th>Test score</th>\n",
       "      <td>0.858</td>\n",
       "    </tr>\n",
       "    <tr>\n",
       "      <th>Train score</th>\n",
       "      <td>0.895</td>\n",
       "    </tr>\n",
       "    <tr>\n",
       "      <th>Sensitivity</th>\n",
       "      <td>0.972</td>\n",
       "    </tr>\n",
       "    <tr>\n",
       "      <th>Specificity</th>\n",
       "      <td>0.689</td>\n",
       "    </tr>\n",
       "    <tr>\n",
       "      <th>Precision</th>\n",
       "      <td>0.823</td>\n",
       "    </tr>\n",
       "  </tbody>\n",
       "</table>\n",
       "</div>"
      ],
      "text/plain": [
       "               KNN\n",
       "Test score   0.858\n",
       "Train score  0.895\n",
       "Sensitivity  0.972\n",
       "Specificity  0.689\n",
       "Precision    0.823"
      ]
     },
     "metadata": {},
     "output_type": "display_data"
    },
    {
     "data": {
      "text/html": [
       "<div>\n",
       "<style scoped>\n",
       "    .dataframe tbody tr th:only-of-type {\n",
       "        vertical-align: middle;\n",
       "    }\n",
       "\n",
       "    .dataframe tbody tr th {\n",
       "        vertical-align: top;\n",
       "    }\n",
       "\n",
       "    .dataframe thead th {\n",
       "        text-align: right;\n",
       "    }\n",
       "</style>\n",
       "<table border=\"1\" class=\"dataframe\">\n",
       "  <thead>\n",
       "    <tr style=\"text-align: right;\">\n",
       "      <th></th>\n",
       "      <th>KNN</th>\n",
       "    </tr>\n",
       "  </thead>\n",
       "  <tbody>\n",
       "    <tr>\n",
       "      <th>Best Params</th>\n",
       "      <td>{'metric': 'minkowski', 'n_neighbors': 40, 'p': 2, 'weights': 'uniform'}</td>\n",
       "    </tr>\n",
       "    <tr>\n",
       "      <th>Params Tried</th>\n",
       "      <td>{'n_neighbors': [25, 40, 50, 75, 100], 'weights': ['distance', 'uniform'], 'metric': ['minkowski'], 'p': [1, 2, 3, 5]}</td>\n",
       "    </tr>\n",
       "    <tr>\n",
       "      <th>Notes</th>\n",
       "      <td></td>\n",
       "    </tr>\n",
       "  </tbody>\n",
       "</table>\n",
       "</div>"
      ],
      "text/plain": [
       "                                                                                                                                 KNN\n",
       "Best Params                                                 {'metric': 'minkowski', 'n_neighbors': 40, 'p': 2, 'weights': 'uniform'}\n",
       "Params Tried  {'n_neighbors': [25, 40, 50, 75, 100], 'weights': ['distance', 'uniform'], 'metric': ['minkowski'], 'p': [1, 2, 3, 5]}\n",
       "Notes                                                                                                                               "
      ]
     },
     "metadata": {},
     "output_type": "display_data"
    },
    {
     "data": {
      "text/html": [
       "<div>\n",
       "<style scoped>\n",
       "    .dataframe tbody tr th:only-of-type {\n",
       "        vertical-align: middle;\n",
       "    }\n",
       "\n",
       "    .dataframe tbody tr th {\n",
       "        vertical-align: top;\n",
       "    }\n",
       "\n",
       "    .dataframe thead th {\n",
       "        text-align: right;\n",
       "    }\n",
       "</style>\n",
       "<table border=\"1\" class=\"dataframe\">\n",
       "  <thead>\n",
       "    <tr style=\"text-align: right;\">\n",
       "      <th></th>\n",
       "      <th>Act. Positive</th>\n",
       "      <th>Act. Negative</th>\n",
       "      <th>Total</th>\n",
       "    </tr>\n",
       "  </thead>\n",
       "  <tbody>\n",
       "    <tr>\n",
       "      <th>Pred. Positive</th>\n",
       "      <td>58.1%</td>\n",
       "      <td>12.5%</td>\n",
       "      <td>293</td>\n",
       "    </tr>\n",
       "    <tr>\n",
       "      <th>Pred. Negative</th>\n",
       "      <td>1.7%</td>\n",
       "      <td>27.7%</td>\n",
       "      <td>122</td>\n",
       "    </tr>\n",
       "    <tr>\n",
       "      <th>Total</th>\n",
       "      <td>248</td>\n",
       "      <td>167</td>\n",
       "      <td>415</td>\n",
       "    </tr>\n",
       "  </tbody>\n",
       "</table>\n",
       "</div>"
      ],
      "text/plain": [
       "               Act. Positive Act. Negative  Total\n",
       "Pred. Positive         58.1%         12.5%    293\n",
       "Pred. Negative          1.7%         27.7%    122\n",
       "Total                    248           167    415"
      ]
     },
     "metadata": {},
     "output_type": "display_data"
    },
    {
     "name": "stdout",
     "output_type": "stream",
     "text": [
      "Runtime:  7.974  minutes\n"
     ]
    },
    {
     "data": {
      "image/png": "[encoded data removed]",
      "text/plain": [
       "<Figure size 432x288 with 1 Axes>"
      ]
     },
     "metadata": {
      "needs_background": "light"
     },
     "output_type": "display_data"
    }
   ],
   "source": [
    "# KNN\n",
    "knn_params = {\n",
    "    'n_neighbors': [25, 40, 50, 75, 100],\n",
    "    'weights': ['distance', 'uniform'],\n",
    "    'metric': ['minkowski'],\n",
    "    'p': [1, 2, 3, 5] #p=1 and p=2 correspond to manhattan and euclidean distance equations respectively\n",
    "}\n",
    "\n",
    "# Any notes to add?\n",
    "knn_notes = ''\n",
    "\n",
    "all_results, knn_best_model, knn_preds = fit_model(KNeighborsClassifier(), 'KNN',\n",
    "                                                   knn_params, all_results, knn_notes\n",
    "                                                  )\n",
    "\n",
    "# Plot ROC Curve with make_roc function\n",
    "make_roc(y_test, knn_best_model)"
   ]
  },
  {
   "cell_type": "markdown",
   "metadata": {},
   "source": [
    "## Random Forest"
   ]
  },
  {
   "cell_type": "code",
   "execution_count": 18,
   "metadata": {},
   "outputs": [
    {
     "data": {
      "text/html": [
       "<div>\n",
       "<style scoped>\n",
       "    .dataframe tbody tr th:only-of-type {\n",
       "        vertical-align: middle;\n",
       "    }\n",
       "\n",
       "    .dataframe tbody tr th {\n",
       "        vertical-align: top;\n",
       "    }\n",
       "\n",
       "    .dataframe thead th {\n",
       "        text-align: right;\n",
       "    }\n",
       "</style>\n",
       "<table border=\"1\" class=\"dataframe\">\n",
       "  <thead>\n",
       "    <tr style=\"text-align: right;\">\n",
       "      <th></th>\n",
       "      <th>Random Forest</th>\n",
       "    </tr>\n",
       "  </thead>\n",
       "  <tbody>\n",
       "    <tr>\n",
       "      <th>Test score</th>\n",
       "      <td>0.904</td>\n",
       "    </tr>\n",
       "    <tr>\n",
       "      <th>Train score</th>\n",
       "      <td>0.896</td>\n",
       "    </tr>\n",
       "    <tr>\n",
       "      <th>Sensitivity</th>\n",
       "      <td>0.976</td>\n",
       "    </tr>\n",
       "    <tr>\n",
       "      <th>Specificity</th>\n",
       "      <td>0.796</td>\n",
       "    </tr>\n",
       "    <tr>\n",
       "      <th>Precision</th>\n",
       "      <td>0.877</td>\n",
       "    </tr>\n",
       "  </tbody>\n",
       "</table>\n",
       "</div>"
      ],
      "text/plain": [
       "            Random Forest\n",
       "Test score          0.904\n",
       "Train score         0.896\n",
       "Sensitivity         0.976\n",
       "Specificity         0.796\n",
       "Precision           0.877"
      ]
     },
     "metadata": {},
     "output_type": "display_data"
    },
    {
     "data": {
      "text/html": [
       "<div>\n",
       "<style scoped>\n",
       "    .dataframe tbody tr th:only-of-type {\n",
       "        vertical-align: middle;\n",
       "    }\n",
       "\n",
       "    .dataframe tbody tr th {\n",
       "        vertical-align: top;\n",
       "    }\n",
       "\n",
       "    .dataframe thead th {\n",
       "        text-align: right;\n",
       "    }\n",
       "</style>\n",
       "<table border=\"1\" class=\"dataframe\">\n",
       "  <thead>\n",
       "    <tr style=\"text-align: right;\">\n",
       "      <th></th>\n",
       "      <th>Random Forest</th>\n",
       "    </tr>\n",
       "  </thead>\n",
       "  <tbody>\n",
       "    <tr>\n",
       "      <th>Best Params</th>\n",
       "      <td>{'bootstrap': False, 'max_features': 28, 'min_samples_leaf': 2, 'min_samples_split': 2, 'n_estimators': 90}</td>\n",
       "    </tr>\n",
       "    <tr>\n",
       "      <th>Params Tried</th>\n",
       "      <td>{'n_estimators': [50, 60, 75, 90, 100, 125], 'min_samples_split': [2, 3, 4, 5], 'min_samples_leaf': [2, 3, 4, 5], 'bootstrap': [False, True], 'max_features': (19, 28, 37, 46, 55)}</td>\n",
       "    </tr>\n",
       "    <tr>\n",
       "      <th>Notes</th>\n",
       "      <td></td>\n",
       "    </tr>\n",
       "  </tbody>\n",
       "</table>\n",
       "</div>"
      ],
      "text/plain": [
       "                                                                                                                                                                                    Random Forest\n",
       "Best Params                                                                           {'bootstrap': False, 'max_features': 28, 'min_samples_leaf': 2, 'min_samples_split': 2, 'n_estimators': 90}\n",
       "Params Tried  {'n_estimators': [50, 60, 75, 90, 100, 125], 'min_samples_split': [2, 3, 4, 5], 'min_samples_leaf': [2, 3, 4, 5], 'bootstrap': [False, True], 'max_features': (19, 28, 37, 46, 55)}\n",
       "Notes                                                                                                                                                                                            "
      ]
     },
     "metadata": {},
     "output_type": "display_data"
    },
    {
     "data": {
      "text/html": [
       "<div>\n",
       "<style scoped>\n",
       "    .dataframe tbody tr th:only-of-type {\n",
       "        vertical-align: middle;\n",
       "    }\n",
       "\n",
       "    .dataframe tbody tr th {\n",
       "        vertical-align: top;\n",
       "    }\n",
       "\n",
       "    .dataframe thead th {\n",
       "        text-align: right;\n",
       "    }\n",
       "</style>\n",
       "<table border=\"1\" class=\"dataframe\">\n",
       "  <thead>\n",
       "    <tr style=\"text-align: right;\">\n",
       "      <th></th>\n",
       "      <th>Act. Positive</th>\n",
       "      <th>Act. Negative</th>\n",
       "      <th>Total</th>\n",
       "    </tr>\n",
       "  </thead>\n",
       "  <tbody>\n",
       "    <tr>\n",
       "      <th>Pred. Positive</th>\n",
       "      <td>58.3%</td>\n",
       "      <td>8.2%</td>\n",
       "      <td>276</td>\n",
       "    </tr>\n",
       "    <tr>\n",
       "      <th>Pred. Negative</th>\n",
       "      <td>1.4%</td>\n",
       "      <td>32.0%</td>\n",
       "      <td>139</td>\n",
       "    </tr>\n",
       "    <tr>\n",
       "      <th>Total</th>\n",
       "      <td>248</td>\n",
       "      <td>167</td>\n",
       "      <td>415</td>\n",
       "    </tr>\n",
       "  </tbody>\n",
       "</table>\n",
       "</div>"
      ],
      "text/plain": [
       "               Act. Positive Act. Negative  Total\n",
       "Pred. Positive         58.3%          8.2%    276\n",
       "Pred. Negative          1.4%         32.0%    139\n",
       "Total                    248           167    415"
      ]
     },
     "metadata": {},
     "output_type": "display_data"
    },
    {
     "name": "stdout",
     "output_type": "stream",
     "text": [
      "Runtime:  13.059  minutes\n"
     ]
    },
    {
     "data": {
      "text/plain": [
       "<matplotlib.axes._subplots.AxesSubplot at 0x1a1c787710>"
      ]
     },
     "execution_count": 18,
     "metadata": {},
     "output_type": "execute_result"
    },
    {
     "data": {
      "image/png": "[encoded data removed]",
      "text/plain": [
       "<Figure size 432x288 with 1 Axes>"
      ]
     },
     "metadata": {
      "needs_background": "light"
     },
     "output_type": "display_data"
    },
    {
     "data": {
      "image/png": "[encoded data removed]",
      "text/plain": [
       "<Figure size 432x288 with 1 Axes>"
      ]
     },
     "metadata": {
      "needs_background": "light"
     },
     "output_type": "display_data"
    }
   ],
   "source": [
    "# Random Forest Model\n",
    "rf_params = {\n",
    "    'n_estimators': [50, 60, 75, 90, 100, 125],\n",
    "    'min_samples_split': [2, 3, 4, 5],\n",
    "    'min_samples_leaf': [2, 3, 4, 5],\n",
    "    'bootstrap': [False, True],\n",
    "    'max_features': range(\n",
    "                        int(np.sqrt(len(X_train.columns)))-int(.5*np.sqrt(len(X_train.columns))), # .5 Lower bound\n",
    "                        int(np.sqrt(len(X_train.columns)))+int(.5*np.sqrt(len(X_train.columns))), # .5 Upper bound\n",
    "                        int(.25*np.sqrt(len(X_train.columns)))) # Step size: .25)\n",
    "}\n",
    "\n",
    "# Any notes to add?\n",
    "rf_notes = ''\n",
    "\n",
    "all_results, rf_best_model, rf_preds = fit_model(RandomForestClassifier(), 'Random Forest',\n",
    "                                                 rf_params, all_results, rf_notes\n",
    "                                                )\n",
    "\n",
    "# Plot ROC Curve with make_roc function\n",
    "make_roc(y_test, rf_best_model)\n",
    "\n",
    "# plot important features\n",
    "feat_importance = pd.DataFrame(rf_best_model.feature_importances_, X_train.columns, columns=['importance'])\n",
    "feat_importance.sort_values('importance', ascending=False).head(15).plot(kind='barh')"
   ]
  },
  {
   "cell_type": "markdown",
   "metadata": {},
   "source": [
    "## Extra Trees"
   ]
  },
  {
   "cell_type": "code",
   "execution_count": 19,
   "metadata": {},
   "outputs": [
    {
     "data": {
      "text/html": [
       "<div>\n",
       "<style scoped>\n",
       "    .dataframe tbody tr th:only-of-type {\n",
       "        vertical-align: middle;\n",
       "    }\n",
       "\n",
       "    .dataframe tbody tr th {\n",
       "        vertical-align: top;\n",
       "    }\n",
       "\n",
       "    .dataframe thead th {\n",
       "        text-align: right;\n",
       "    }\n",
       "</style>\n",
       "<table border=\"1\" class=\"dataframe\">\n",
       "  <thead>\n",
       "    <tr style=\"text-align: right;\">\n",
       "      <th></th>\n",
       "      <th>Extra Trees</th>\n",
       "    </tr>\n",
       "  </thead>\n",
       "  <tbody>\n",
       "    <tr>\n",
       "      <th>Test score</th>\n",
       "      <td>0.923</td>\n",
       "    </tr>\n",
       "    <tr>\n",
       "      <th>Train score</th>\n",
       "      <td>0.89</td>\n",
       "    </tr>\n",
       "    <tr>\n",
       "      <th>Sensitivity</th>\n",
       "      <td>0.98</td>\n",
       "    </tr>\n",
       "    <tr>\n",
       "      <th>Specificity</th>\n",
       "      <td>0.838</td>\n",
       "    </tr>\n",
       "    <tr>\n",
       "      <th>Precision</th>\n",
       "      <td>0.9</td>\n",
       "    </tr>\n",
       "  </tbody>\n",
       "</table>\n",
       "</div>"
      ],
      "text/plain": [
       "            Extra Trees\n",
       "Test score        0.923\n",
       "Train score        0.89\n",
       "Sensitivity        0.98\n",
       "Specificity       0.838\n",
       "Precision           0.9"
      ]
     },
     "metadata": {},
     "output_type": "display_data"
    },
    {
     "data": {
      "text/html": [
       "<div>\n",
       "<style scoped>\n",
       "    .dataframe tbody tr th:only-of-type {\n",
       "        vertical-align: middle;\n",
       "    }\n",
       "\n",
       "    .dataframe tbody tr th {\n",
       "        vertical-align: top;\n",
       "    }\n",
       "\n",
       "    .dataframe thead th {\n",
       "        text-align: right;\n",
       "    }\n",
       "</style>\n",
       "<table border=\"1\" class=\"dataframe\">\n",
       "  <thead>\n",
       "    <tr style=\"text-align: right;\">\n",
       "      <th></th>\n",
       "      <th>Extra Trees</th>\n",
       "    </tr>\n",
       "  </thead>\n",
       "  <tbody>\n",
       "    <tr>\n",
       "      <th>Best Params</th>\n",
       "      <td>{'min_samples_leaf': 3, 'min_samples_split': 4, 'n_estimators': 100}</td>\n",
       "    </tr>\n",
       "    <tr>\n",
       "      <th>Params Tried</th>\n",
       "      <td>{'n_estimators': [50, 75, 100], 'min_samples_split': [4], 'min_samples_leaf': [3]}</td>\n",
       "    </tr>\n",
       "    <tr>\n",
       "      <th>Notes</th>\n",
       "      <td></td>\n",
       "    </tr>\n",
       "  </tbody>\n",
       "</table>\n",
       "</div>"
      ],
      "text/plain": [
       "                                                                                     Extra Trees\n",
       "Best Params                 {'min_samples_leaf': 3, 'min_samples_split': 4, 'n_estimators': 100}\n",
       "Params Tried  {'n_estimators': [50, 75, 100], 'min_samples_split': [4], 'min_samples_leaf': [3]}\n",
       "Notes                                                                                           "
      ]
     },
     "metadata": {},
     "output_type": "display_data"
    },
    {
     "data": {
      "text/html": [
       "<div>\n",
       "<style scoped>\n",
       "    .dataframe tbody tr th:only-of-type {\n",
       "        vertical-align: middle;\n",
       "    }\n",
       "\n",
       "    .dataframe tbody tr th {\n",
       "        vertical-align: top;\n",
       "    }\n",
       "\n",
       "    .dataframe thead th {\n",
       "        text-align: right;\n",
       "    }\n",
       "</style>\n",
       "<table border=\"1\" class=\"dataframe\">\n",
       "  <thead>\n",
       "    <tr style=\"text-align: right;\">\n",
       "      <th></th>\n",
       "      <th>Act. Positive</th>\n",
       "      <th>Act. Negative</th>\n",
       "      <th>Total</th>\n",
       "    </tr>\n",
       "  </thead>\n",
       "  <tbody>\n",
       "    <tr>\n",
       "      <th>Pred. Positive</th>\n",
       "      <td>58.6%</td>\n",
       "      <td>6.5%</td>\n",
       "      <td>270</td>\n",
       "    </tr>\n",
       "    <tr>\n",
       "      <th>Pred. Negative</th>\n",
       "      <td>1.2%</td>\n",
       "      <td>33.7%</td>\n",
       "      <td>145</td>\n",
       "    </tr>\n",
       "    <tr>\n",
       "      <th>Total</th>\n",
       "      <td>248</td>\n",
       "      <td>167</td>\n",
       "      <td>415</td>\n",
       "    </tr>\n",
       "  </tbody>\n",
       "</table>\n",
       "</div>"
      ],
      "text/plain": [
       "               Act. Positive Act. Negative  Total\n",
       "Pred. Positive         58.6%          6.5%    270\n",
       "Pred. Negative          1.2%         33.7%    145\n",
       "Total                    248           167    415"
      ]
     },
     "metadata": {},
     "output_type": "display_data"
    },
    {
     "name": "stdout",
     "output_type": "stream",
     "text": [
      "Runtime:  0.133  minutes\n"
     ]
    },
    {
     "data": {
      "text/plain": [
       "<matplotlib.axes._subplots.AxesSubplot at 0x1a1c87f048>"
      ]
     },
     "execution_count": 19,
     "metadata": {},
     "output_type": "execute_result"
    },
    {
     "data": {
      "image/png": "[encoded data removed]",
      "text/plain": [
       "<Figure size 432x288 with 1 Axes>"
      ]
     },
     "metadata": {
      "needs_background": "light"
     },
     "output_type": "display_data"
    },
    {
     "data": {
      "image/png": "[encoded data removed]",
      "text/plain": [
       "<Figure size 432x288 with 1 Axes>"
      ]
     },
     "metadata": {
      "needs_background": "light"
     },
     "output_type": "display_data"
    }
   ],
   "source": [
    "# Extra Trees\n",
    "et_params = {\n",
    "    'n_estimators': [50, 75, 100],\n",
    "    'min_samples_split': [4],\n",
    "    'min_samples_leaf': [3],\n",
    "}\n",
    "\n",
    "# Any notes to add?\n",
    "et_notes = ''\n",
    "\n",
    "all_results, et_best_model, et_preds = fit_model(ExtraTreesClassifier(), 'Extra Trees',\n",
    "                                                 et_params, all_results, et_notes\n",
    "                                                )\n",
    "\n",
    "# Plot ROC Curve with make_roc function\n",
    "make_roc(y_test, et_best_model)\n",
    "\n",
    "# plot important features\n",
    "feat_importance = pd.DataFrame(et_best_model.feature_importances_, X_train.columns, columns=['importance'])\n",
    "feat_importance.sort_values('importance', ascending=False).head(15).plot(kind='barh')"
   ]
  },
  {
   "cell_type": "markdown",
   "metadata": {},
   "source": [
    "## Gradient Boost"
   ]
  },
  {
   "cell_type": "code",
   "execution_count": 20,
   "metadata": {},
   "outputs": [
    {
     "data": {
      "text/html": [
       "<div>\n",
       "<style scoped>\n",
       "    .dataframe tbody tr th:only-of-type {\n",
       "        vertical-align: middle;\n",
       "    }\n",
       "\n",
       "    .dataframe tbody tr th {\n",
       "        vertical-align: top;\n",
       "    }\n",
       "\n",
       "    .dataframe thead th {\n",
       "        text-align: right;\n",
       "    }\n",
       "</style>\n",
       "<table border=\"1\" class=\"dataframe\">\n",
       "  <thead>\n",
       "    <tr style=\"text-align: right;\">\n",
       "      <th></th>\n",
       "      <th>Gradient Boost</th>\n",
       "    </tr>\n",
       "  </thead>\n",
       "  <tbody>\n",
       "    <tr>\n",
       "      <th>Test score</th>\n",
       "      <td>0.894</td>\n",
       "    </tr>\n",
       "    <tr>\n",
       "      <th>Train score</th>\n",
       "      <td>0.86</td>\n",
       "    </tr>\n",
       "    <tr>\n",
       "      <th>Sensitivity</th>\n",
       "      <td>0.972</td>\n",
       "    </tr>\n",
       "    <tr>\n",
       "      <th>Specificity</th>\n",
       "      <td>0.778</td>\n",
       "    </tr>\n",
       "    <tr>\n",
       "      <th>Precision</th>\n",
       "      <td>0.867</td>\n",
       "    </tr>\n",
       "  </tbody>\n",
       "</table>\n",
       "</div>"
      ],
      "text/plain": [
       "            Gradient Boost\n",
       "Test score           0.894\n",
       "Train score           0.86\n",
       "Sensitivity          0.972\n",
       "Specificity          0.778\n",
       "Precision            0.867"
      ]
     },
     "metadata": {},
     "output_type": "display_data"
    },
    {
     "data": {
      "text/html": [
       "<div>\n",
       "<style scoped>\n",
       "    .dataframe tbody tr th:only-of-type {\n",
       "        vertical-align: middle;\n",
       "    }\n",
       "\n",
       "    .dataframe tbody tr th {\n",
       "        vertical-align: top;\n",
       "    }\n",
       "\n",
       "    .dataframe thead th {\n",
       "        text-align: right;\n",
       "    }\n",
       "</style>\n",
       "<table border=\"1\" class=\"dataframe\">\n",
       "  <thead>\n",
       "    <tr style=\"text-align: right;\">\n",
       "      <th></th>\n",
       "      <th>Gradient Boost</th>\n",
       "    </tr>\n",
       "  </thead>\n",
       "  <tbody>\n",
       "    <tr>\n",
       "      <th>Best Params</th>\n",
       "      <td>{'learning_rate': 0.4, 'max_depth': 4, 'min_samples_split': 3, 'n_estimators': 80}</td>\n",
       "    </tr>\n",
       "    <tr>\n",
       "      <th>Params Tried</th>\n",
       "      <td>{'n_estimators': [60, 70, 80], 'learning_rate': [0.25, 0.4, 0.5, 0.6, 0.75], 'max_depth': [4], 'min_samples_split': [3]}</td>\n",
       "    </tr>\n",
       "    <tr>\n",
       "      <th>Notes</th>\n",
       "      <td></td>\n",
       "    </tr>\n",
       "  </tbody>\n",
       "</table>\n",
       "</div>"
      ],
      "text/plain": [
       "                                                                                                                        Gradient Boost\n",
       "Best Params                                         {'learning_rate': 0.4, 'max_depth': 4, 'min_samples_split': 3, 'n_estimators': 80}\n",
       "Params Tried  {'n_estimators': [60, 70, 80], 'learning_rate': [0.25, 0.4, 0.5, 0.6, 0.75], 'max_depth': [4], 'min_samples_split': [3]}\n",
       "Notes                                                                                                                                 "
      ]
     },
     "metadata": {},
     "output_type": "display_data"
    },
    {
     "data": {
      "text/html": [
       "<div>\n",
       "<style scoped>\n",
       "    .dataframe tbody tr th:only-of-type {\n",
       "        vertical-align: middle;\n",
       "    }\n",
       "\n",
       "    .dataframe tbody tr th {\n",
       "        vertical-align: top;\n",
       "    }\n",
       "\n",
       "    .dataframe thead th {\n",
       "        text-align: right;\n",
       "    }\n",
       "</style>\n",
       "<table border=\"1\" class=\"dataframe\">\n",
       "  <thead>\n",
       "    <tr style=\"text-align: right;\">\n",
       "      <th></th>\n",
       "      <th>Act. Positive</th>\n",
       "      <th>Act. Negative</th>\n",
       "      <th>Total</th>\n",
       "    </tr>\n",
       "  </thead>\n",
       "  <tbody>\n",
       "    <tr>\n",
       "      <th>Pred. Positive</th>\n",
       "      <td>58.1%</td>\n",
       "      <td>8.9%</td>\n",
       "      <td>278</td>\n",
       "    </tr>\n",
       "    <tr>\n",
       "      <th>Pred. Negative</th>\n",
       "      <td>1.7%</td>\n",
       "      <td>31.3%</td>\n",
       "      <td>137</td>\n",
       "    </tr>\n",
       "    <tr>\n",
       "      <th>Total</th>\n",
       "      <td>248</td>\n",
       "      <td>167</td>\n",
       "      <td>415</td>\n",
       "    </tr>\n",
       "  </tbody>\n",
       "</table>\n",
       "</div>"
      ],
      "text/plain": [
       "               Act. Positive Act. Negative  Total\n",
       "Pred. Positive         58.1%          8.9%    278\n",
       "Pred. Negative          1.7%         31.3%    137\n",
       "Total                    248           167    415"
      ]
     },
     "metadata": {},
     "output_type": "display_data"
    },
    {
     "name": "stdout",
     "output_type": "stream",
     "text": [
      "Runtime:  1.999  minutes\n"
     ]
    },
    {
     "data": {
      "text/plain": [
       "<matplotlib.axes._subplots.AxesSubplot at 0x1a1bf99860>"
      ]
     },
     "execution_count": 20,
     "metadata": {},
     "output_type": "execute_result"
    },
    {
     "data": {
      "image/png": "[encoded data removed]",
      "text/plain": [
       "<Figure size 432x288 with 1 Axes>"
      ]
     },
     "metadata": {
      "needs_background": "light"
     },
     "output_type": "display_data"
    },
    {
     "data": {
      "image/png": "[encoded data removed]",
      "text/plain": [
       "<Figure size 432x288 with 1 Axes>"
      ]
     },
     "metadata": {
      "needs_background": "light"
     },
     "output_type": "display_data"
    }
   ],
   "source": [
    "# Gradient Boost\n",
    "gb_params = {\n",
    "    'n_estimators': [60, 70, 80],\n",
    "    'learning_rate': [.25, .4, .5, .6, .75],\n",
    "    'max_depth': [4],\n",
    "    'min_samples_split': [3],\n",
    "}\n",
    "\n",
    "# Any notes to add?\n",
    "gb_notes = ''\n",
    "\n",
    "all_results, gb_best_model, gb_preds = fit_model(GradientBoostingClassifier(), 'Gradient Boost',\n",
    "                                                 gb_params, all_results, gb_notes\n",
    "                                                )\n",
    "\n",
    "# Plot ROC Curve with make_roc function\n",
    "make_roc(y_test, gb_best_model)\n",
    "\n",
    "# plot important features\n",
    "feat_importance = pd.DataFrame(gb_best_model.feature_importances_, X_train.columns, columns=['importance'])\n",
    "feat_importance.sort_values('importance', ascending=False).head(15).plot(kind='barh')"
   ]
  },
  {
   "cell_type": "markdown",
   "metadata": {},
   "source": [
    "## AdaBoost"
   ]
  },
  {
   "cell_type": "code",
   "execution_count": 21,
   "metadata": {},
   "outputs": [
    {
     "data": {
      "text/html": [
       "<div>\n",
       "<style scoped>\n",
       "    .dataframe tbody tr th:only-of-type {\n",
       "        vertical-align: middle;\n",
       "    }\n",
       "\n",
       "    .dataframe tbody tr th {\n",
       "        vertical-align: top;\n",
       "    }\n",
       "\n",
       "    .dataframe thead th {\n",
       "        text-align: right;\n",
       "    }\n",
       "</style>\n",
       "<table border=\"1\" class=\"dataframe\">\n",
       "  <thead>\n",
       "    <tr style=\"text-align: right;\">\n",
       "      <th></th>\n",
       "      <th>AdaBoost</th>\n",
       "    </tr>\n",
       "  </thead>\n",
       "  <tbody>\n",
       "    <tr>\n",
       "      <th>Test score</th>\n",
       "      <td>0.906</td>\n",
       "    </tr>\n",
       "    <tr>\n",
       "      <th>Train score</th>\n",
       "      <td>0.873</td>\n",
       "    </tr>\n",
       "    <tr>\n",
       "      <th>Sensitivity</th>\n",
       "      <td>0.952</td>\n",
       "    </tr>\n",
       "    <tr>\n",
       "      <th>Specificity</th>\n",
       "      <td>0.838</td>\n",
       "    </tr>\n",
       "    <tr>\n",
       "      <th>Precision</th>\n",
       "      <td>0.897</td>\n",
       "    </tr>\n",
       "  </tbody>\n",
       "</table>\n",
       "</div>"
      ],
      "text/plain": [
       "            AdaBoost\n",
       "Test score     0.906\n",
       "Train score    0.873\n",
       "Sensitivity    0.952\n",
       "Specificity    0.838\n",
       "Precision      0.897"
      ]
     },
     "metadata": {},
     "output_type": "display_data"
    },
    {
     "data": {
      "text/html": [
       "<div>\n",
       "<style scoped>\n",
       "    .dataframe tbody tr th:only-of-type {\n",
       "        vertical-align: middle;\n",
       "    }\n",
       "\n",
       "    .dataframe tbody tr th {\n",
       "        vertical-align: top;\n",
       "    }\n",
       "\n",
       "    .dataframe thead th {\n",
       "        text-align: right;\n",
       "    }\n",
       "</style>\n",
       "<table border=\"1\" class=\"dataframe\">\n",
       "  <thead>\n",
       "    <tr style=\"text-align: right;\">\n",
       "      <th></th>\n",
       "      <th>AdaBoost</th>\n",
       "    </tr>\n",
       "  </thead>\n",
       "  <tbody>\n",
       "    <tr>\n",
       "      <th>Best Params</th>\n",
       "      <td>{'learning_rate': 1, 'n_estimators': 125}</td>\n",
       "    </tr>\n",
       "    <tr>\n",
       "      <th>Params Tried</th>\n",
       "      <td>{'n_estimators': [75, 100, 125, 150, 175], 'learning_rate': [0.1, 0.25, 0.5, 1]}</td>\n",
       "    </tr>\n",
       "    <tr>\n",
       "      <th>Notes</th>\n",
       "      <td></td>\n",
       "    </tr>\n",
       "  </tbody>\n",
       "</table>\n",
       "</div>"
      ],
      "text/plain": [
       "                                                                                      AdaBoost\n",
       "Best Params                                          {'learning_rate': 1, 'n_estimators': 125}\n",
       "Params Tried  {'n_estimators': [75, 100, 125, 150, 175], 'learning_rate': [0.1, 0.25, 0.5, 1]}\n",
       "Notes                                                                                         "
      ]
     },
     "metadata": {},
     "output_type": "display_data"
    },
    {
     "data": {
      "text/html": [
       "<div>\n",
       "<style scoped>\n",
       "    .dataframe tbody tr th:only-of-type {\n",
       "        vertical-align: middle;\n",
       "    }\n",
       "\n",
       "    .dataframe tbody tr th {\n",
       "        vertical-align: top;\n",
       "    }\n",
       "\n",
       "    .dataframe thead th {\n",
       "        text-align: right;\n",
       "    }\n",
       "</style>\n",
       "<table border=\"1\" class=\"dataframe\">\n",
       "  <thead>\n",
       "    <tr style=\"text-align: right;\">\n",
       "      <th></th>\n",
       "      <th>Act. Positive</th>\n",
       "      <th>Act. Negative</th>\n",
       "      <th>Total</th>\n",
       "    </tr>\n",
       "  </thead>\n",
       "  <tbody>\n",
       "    <tr>\n",
       "      <th>Pred. Positive</th>\n",
       "      <td>56.9%</td>\n",
       "      <td>6.5%</td>\n",
       "      <td>263</td>\n",
       "    </tr>\n",
       "    <tr>\n",
       "      <th>Pred. Negative</th>\n",
       "      <td>2.9%</td>\n",
       "      <td>33.7%</td>\n",
       "      <td>152</td>\n",
       "    </tr>\n",
       "    <tr>\n",
       "      <th>Total</th>\n",
       "      <td>248</td>\n",
       "      <td>167</td>\n",
       "      <td>415</td>\n",
       "    </tr>\n",
       "  </tbody>\n",
       "</table>\n",
       "</div>"
      ],
      "text/plain": [
       "               Act. Positive Act. Negative  Total\n",
       "Pred. Positive         56.9%          6.5%    263\n",
       "Pred. Negative          2.9%         33.7%    152\n",
       "Total                    248           167    415"
      ]
     },
     "metadata": {},
     "output_type": "display_data"
    },
    {
     "name": "stdout",
     "output_type": "stream",
     "text": [
      "Runtime:  1.31  minutes\n"
     ]
    },
    {
     "data": {
      "text/plain": [
       "<matplotlib.axes._subplots.AxesSubplot at 0x1a1c9ca5f8>"
      ]
     },
     "execution_count": 21,
     "metadata": {},
     "output_type": "execute_result"
    },
    {
     "data": {
      "image/png": "[encoded data removed]",
      "text/plain": [
       "<Figure size 432x288 with 1 Axes>"
      ]
     },
     "metadata": {
      "needs_background": "light"
     },
     "output_type": "display_data"
    },
    {
     "data": {
      "image/png": "[encoded data removed]",
      "text/plain": [
       "<Figure size 432x288 with 1 Axes>"
      ]
     },
     "metadata": {
      "needs_background": "light"
     },
     "output_type": "display_data"
    }
   ],
   "source": [
    "# Adaboost\n",
    "ada_params = {\n",
    "    'n_estimators': [75, 100, 125, 150, 175],\n",
    "    'learning_rate': [.1, .25, .5, 1],\n",
    "}\n",
    "\n",
    "# Any notes to add?\n",
    "ada_notes = ''\n",
    "\n",
    "all_results, ada_best_model, ada_preds = fit_model(AdaBoostClassifier(), 'AdaBoost',\n",
    "                                                   ada_params, all_results, ada_notes\n",
    "                                                  )\n",
    "\n",
    "# Plot ROC Curve with make_roc function\n",
    "make_roc(y_test, ada_best_model)\n",
    "\n",
    "# plot important features\n",
    "feat_importance = pd.DataFrame(ada_best_model.feature_importances_, X_train.columns, columns=['importance'])\n",
    "feat_importance.sort_values('importance', ascending=False).head(15).plot(kind='barh')"
   ]
  },
  {
   "cell_type": "markdown",
   "metadata": {},
   "source": [
    "### Ensemble Models together"
   ]
  },
  {
   "cell_type": "markdown",
   "metadata": {},
   "source": [
    "Combine predictions from all models into a single dataframe:"
   ]
  },
  {
   "cell_type": "code",
   "execution_count": 22,
   "metadata": {},
   "outputs": [],
   "source": [
    "all_preds = pd.DataFrame()\n",
    "\n",
    "for prediction in [lr_preds, svm_preds, ada_preds, rf_preds, nb_preds]: # gb_preds, et_preds, knn_preds\n",
    "    seri = pd.Series(prediction)\n",
    "    all_preds = pd.concat([all_preds, seri], axis=1)"
   ]
  },
  {
   "cell_type": "code",
   "execution_count": 23,
   "metadata": {},
   "outputs": [],
   "source": [
    "ensem = pd.DataFrame()\n",
    "ens_proba = pd.DataFrame()\n",
    "\n",
    "# take the average of the predictions to get the probability of positive case (1)\n",
    "ens_proba = all_preds.mean(axis=1)\n",
    "\n",
    "# round to nearest integer to 'vote' on final prediction\n",
    "ensem = round(ens_proba, 0)\n",
    "\n",
    "all_preds['Ensemble'] = ensem\n",
    "all_preds['Ensemble Proba'] = ens_proba"
   ]
  },
  {
   "cell_type": "code",
   "execution_count": 24,
   "metadata": {},
   "outputs": [
    {
     "name": "stdout",
     "output_type": "stream",
     "text": [
      "Ensemble Model Accuracy:  0.944578313253012\n"
     ]
    }
   ],
   "source": [
    "# calculate accuracy\n",
    "print('Ensemble Model Accuracy: ', accuracy_score(y_test, all_preds['Ensemble']))"
   ]
  },
  {
   "cell_type": "code",
   "execution_count": 25,
   "metadata": {},
   "outputs": [],
   "source": [
    "# Make df of probabilities of prediction classes\n",
    "ens_proba_neg = 1 - ens_proba\n",
    "\n",
    "proba_df = pd.concat([ens_proba_neg, ens_proba], axis=1)"
   ]
  },
  {
   "cell_type": "markdown",
   "metadata": {},
   "source": [
    "#### Evaluate the Results:"
   ]
  },
  {
   "cell_type": "code",
   "execution_count": 26,
   "metadata": {},
   "outputs": [
    {
     "data": {
      "text/html": [
       "<div>\n",
       "<style scoped>\n",
       "    .dataframe tbody tr th:only-of-type {\n",
       "        vertical-align: middle;\n",
       "    }\n",
       "\n",
       "    .dataframe tbody tr th {\n",
       "        vertical-align: top;\n",
       "    }\n",
       "\n",
       "    .dataframe thead th {\n",
       "        text-align: right;\n",
       "    }\n",
       "</style>\n",
       "<table border=\"1\" class=\"dataframe\">\n",
       "  <thead>\n",
       "    <tr style=\"text-align: right;\">\n",
       "      <th></th>\n",
       "      <th>Ensemble</th>\n",
       "    </tr>\n",
       "  </thead>\n",
       "  <tbody>\n",
       "    <tr>\n",
       "      <th>Test score</th>\n",
       "      <td>0.945</td>\n",
       "    </tr>\n",
       "    <tr>\n",
       "      <th>Train score</th>\n",
       "      <td>NaN</td>\n",
       "    </tr>\n",
       "    <tr>\n",
       "      <th>Sensitivity</th>\n",
       "      <td>0.984</td>\n",
       "    </tr>\n",
       "    <tr>\n",
       "      <th>Specificity</th>\n",
       "      <td>0.886</td>\n",
       "    </tr>\n",
       "    <tr>\n",
       "      <th>Precision</th>\n",
       "      <td>0.928</td>\n",
       "    </tr>\n",
       "    <tr>\n",
       "      <th>Best Params</th>\n",
       "      <td>NaN</td>\n",
       "    </tr>\n",
       "    <tr>\n",
       "      <th>Params Tried</th>\n",
       "      <td>NaN</td>\n",
       "    </tr>\n",
       "    <tr>\n",
       "      <th>Notes</th>\n",
       "      <td>NaN</td>\n",
       "    </tr>\n",
       "  </tbody>\n",
       "</table>\n",
       "</div>"
      ],
      "text/plain": [
       "             Ensemble\n",
       "Test score      0.945\n",
       "Train score       NaN\n",
       "Sensitivity     0.984\n",
       "Specificity     0.886\n",
       "Precision       0.928\n",
       "Best Params       NaN\n",
       "Params Tried      NaN\n",
       "Notes             NaN"
      ]
     },
     "metadata": {},
     "output_type": "display_data"
    },
    {
     "data": {
      "text/html": [
       "<div>\n",
       "<style scoped>\n",
       "    .dataframe tbody tr th:only-of-type {\n",
       "        vertical-align: middle;\n",
       "    }\n",
       "\n",
       "    .dataframe tbody tr th {\n",
       "        vertical-align: top;\n",
       "    }\n",
       "\n",
       "    .dataframe thead th {\n",
       "        text-align: right;\n",
       "    }\n",
       "</style>\n",
       "<table border=\"1\" class=\"dataframe\">\n",
       "  <thead>\n",
       "    <tr style=\"text-align: right;\">\n",
       "      <th></th>\n",
       "      <th>Act. Positive</th>\n",
       "      <th>Act. Negative</th>\n",
       "      <th>Total</th>\n",
       "    </tr>\n",
       "  </thead>\n",
       "  <tbody>\n",
       "    <tr>\n",
       "      <th>Pred. Positive</th>\n",
       "      <td>58.8%</td>\n",
       "      <td>4.6%</td>\n",
       "      <td>263</td>\n",
       "    </tr>\n",
       "    <tr>\n",
       "      <th>Pred. Negative</th>\n",
       "      <td>1.0%</td>\n",
       "      <td>35.7%</td>\n",
       "      <td>152</td>\n",
       "    </tr>\n",
       "    <tr>\n",
       "      <th>Total</th>\n",
       "      <td>248</td>\n",
       "      <td>167</td>\n",
       "      <td>415</td>\n",
       "    </tr>\n",
       "  </tbody>\n",
       "</table>\n",
       "</div>"
      ],
      "text/plain": [
       "               Act. Positive Act. Negative  Total\n",
       "Pred. Positive         58.8%          4.6%    263\n",
       "Pred. Negative          1.0%         35.7%    152\n",
       "Total                    248           167    415"
      ]
     },
     "metadata": {},
     "output_type": "display_data"
    },
    {
     "data": {
      "image/png": "[encoded data removed]",
      "text/plain": [
       "<Figure size 432x288 with 1 Axes>"
      ]
     },
     "metadata": {
      "needs_background": "light"
     },
     "output_type": "display_data"
    }
   ],
   "source": [
    "tn, fp, fn, tp = confusion_matrix(y_test, all_preds['Ensemble']).ravel()\n",
    "\n",
    "model_name = 'Ensemble'\n",
    "\n",
    "# Calculate results\n",
    "result = pd.DataFrame(index = index_labels, columns=[model_name])\n",
    "result.loc['Test score'][model_name] = round(accuracy_score(y_test, all_preds['Ensemble']), 3)\n",
    "# result.loc['Train score'][model_name] = round(model.best_score_, 3)\n",
    "result.loc['Sensitivity'][model_name] = round(tp/(tp+fn), 3)\n",
    "result.loc['Specificity'][model_name] = round(tn/(tn+fp), 3)\n",
    "result.loc['Precision'][model_name] = round(tp/(tp+fp), 3)\n",
    "\n",
    "# display test results\n",
    "display(result)     \n",
    "\n",
    "# add results and params to all_results and all_params\n",
    "all_results = pd.concat([all_results, result], axis=1)\n",
    "\n",
    "# Create the confusion matrix\n",
    "total = (tp + tn + fp + fn)\n",
    "confusion = pd.DataFrame(index= ['Pred. Positive','Pred. Negative', 'Total'])\n",
    "confusion['Act. Positive'] = str(round(tp/total*100, 1))+'%', str(round(fn/total*100, 1))+'%', (tp + fn)\n",
    "confusion['Act. Negative'] = str(round(fp/total*100, 1))+'%', str(round(tn/total*100, 1))+'%', (fp + tn)\n",
    "confusion['Total'] = (tp + fp), (fn + tn), total\n",
    "display(confusion)\n",
    "\n",
    "# make predicted probabilities to be returned for use in the ROC Curve\n",
    "y_hat_proba = proba_df.values\n",
    "\n",
    "# Generate False positive rate and True positive rate\n",
    "fpr, tpr, _ = roc_curve(y_test, y_hat_proba[:,1])\n",
    "roc_auc = auc(fpr, tpr)\n",
    "\n",
    "# Plot settings\n",
    "plt.figure(figsize=(6, 4))\n",
    "line_width = 4\n",
    "\n",
    "plt.title('ROC Curve', fontsize=25, position = (0.2,1))\n",
    "plt.ylabel('True Positive Rate')\n",
    "plt.xlabel('False Positive Rate')\n",
    "\n",
    "string = 'Area Under Curve: ' + str(round(roc_auc, 3))\n",
    "plt.text(x=1, y=0.05, s=string, horizontalalignment='right')\n",
    "\n",
    "plt.grid(True)\n",
    "plt.plot(fpr, tpr, lw = line_width)\n",
    "plt.plot([0, 1], [0,1], lw = line_width, linestyle = '--');"
   ]
  },
  {
   "cell_type": "markdown",
   "metadata": {},
   "source": [
    " <hr>\n",
    " \n",
    " # Overall Results:"
   ]
  },
  {
   "cell_type": "code",
   "execution_count": 27,
   "metadata": {},
   "outputs": [
    {
     "data": {
      "text/html": [
       "<div>\n",
       "<style scoped>\n",
       "    .dataframe tbody tr th:only-of-type {\n",
       "        vertical-align: middle;\n",
       "    }\n",
       "\n",
       "    .dataframe tbody tr th {\n",
       "        vertical-align: top;\n",
       "    }\n",
       "\n",
       "    .dataframe thead th {\n",
       "        text-align: right;\n",
       "    }\n",
       "</style>\n",
       "<table border=\"1\" class=\"dataframe\">\n",
       "  <thead>\n",
       "    <tr style=\"text-align: right;\">\n",
       "      <th></th>\n",
       "      <th>Naive Bayes</th>\n",
       "      <th>Logistic</th>\n",
       "      <th>SVM</th>\n",
       "      <th>KNN</th>\n",
       "      <th>Random Forest</th>\n",
       "      <th>Extra Trees</th>\n",
       "      <th>Gradient Boost</th>\n",
       "      <th>AdaBoost</th>\n",
       "      <th>Ensemble</th>\n",
       "    </tr>\n",
       "  </thead>\n",
       "  <tbody>\n",
       "    <tr>\n",
       "      <th>Test score</th>\n",
       "      <td>0.916</td>\n",
       "      <td>0.933</td>\n",
       "      <td>0.942</td>\n",
       "      <td>0.858</td>\n",
       "      <td>0.904</td>\n",
       "      <td>0.923</td>\n",
       "      <td>0.894</td>\n",
       "      <td>0.906</td>\n",
       "      <td>0.945</td>\n",
       "    </tr>\n",
       "    <tr>\n",
       "      <th>Train score</th>\n",
       "      <td>0.903</td>\n",
       "      <td>0.933</td>\n",
       "      <td>0.933</td>\n",
       "      <td>0.895</td>\n",
       "      <td>0.896</td>\n",
       "      <td>0.89</td>\n",
       "      <td>0.86</td>\n",
       "      <td>0.873</td>\n",
       "      <td>NaN</td>\n",
       "    </tr>\n",
       "    <tr>\n",
       "      <th>Sensitivity</th>\n",
       "      <td>0.911</td>\n",
       "      <td>0.96</td>\n",
       "      <td>0.964</td>\n",
       "      <td>0.972</td>\n",
       "      <td>0.976</td>\n",
       "      <td>0.98</td>\n",
       "      <td>0.972</td>\n",
       "      <td>0.952</td>\n",
       "      <td>0.984</td>\n",
       "    </tr>\n",
       "    <tr>\n",
       "      <th>Specificity</th>\n",
       "      <td>0.922</td>\n",
       "      <td>0.892</td>\n",
       "      <td>0.91</td>\n",
       "      <td>0.689</td>\n",
       "      <td>0.796</td>\n",
       "      <td>0.838</td>\n",
       "      <td>0.778</td>\n",
       "      <td>0.838</td>\n",
       "      <td>0.886</td>\n",
       "    </tr>\n",
       "    <tr>\n",
       "      <th>Precision</th>\n",
       "      <td>0.946</td>\n",
       "      <td>0.93</td>\n",
       "      <td>0.941</td>\n",
       "      <td>0.823</td>\n",
       "      <td>0.877</td>\n",
       "      <td>0.9</td>\n",
       "      <td>0.867</td>\n",
       "      <td>0.897</td>\n",
       "      <td>0.928</td>\n",
       "    </tr>\n",
       "  </tbody>\n",
       "</table>\n",
       "</div>"
      ],
      "text/plain": [
       "            Naive Bayes Logistic    SVM    KNN Random Forest Extra Trees  \\\n",
       "Test score        0.916    0.933  0.942  0.858         0.904       0.923   \n",
       "Train score       0.903    0.933  0.933  0.895         0.896        0.89   \n",
       "Sensitivity       0.911     0.96  0.964  0.972         0.976        0.98   \n",
       "Specificity       0.922    0.892   0.91  0.689         0.796       0.838   \n",
       "Precision         0.946     0.93  0.941  0.823         0.877         0.9   \n",
       "\n",
       "            Gradient Boost AdaBoost Ensemble  \n",
       "Test score           0.894    0.906    0.945  \n",
       "Train score           0.86    0.873      NaN  \n",
       "Sensitivity          0.972    0.952    0.984  \n",
       "Specificity          0.778    0.838    0.886  \n",
       "Precision            0.867    0.897    0.928  "
      ]
     },
     "metadata": {},
     "output_type": "display_data"
    },
    {
     "data": {
      "text/html": [
       "<div>\n",
       "<style scoped>\n",
       "    .dataframe tbody tr th:only-of-type {\n",
       "        vertical-align: middle;\n",
       "    }\n",
       "\n",
       "    .dataframe tbody tr th {\n",
       "        vertical-align: top;\n",
       "    }\n",
       "\n",
       "    .dataframe thead th {\n",
       "        text-align: right;\n",
       "    }\n",
       "</style>\n",
       "<table border=\"1\" class=\"dataframe\">\n",
       "  <thead>\n",
       "    <tr style=\"text-align: right;\">\n",
       "      <th></th>\n",
       "      <th>Naive Bayes</th>\n",
       "      <th>Logistic</th>\n",
       "      <th>SVM</th>\n",
       "      <th>KNN</th>\n",
       "      <th>Random Forest</th>\n",
       "      <th>Extra Trees</th>\n",
       "      <th>Gradient Boost</th>\n",
       "      <th>AdaBoost</th>\n",
       "      <th>Ensemble</th>\n",
       "    </tr>\n",
       "  </thead>\n",
       "  <tbody>\n",
       "    <tr>\n",
       "      <th>Best Params</th>\n",
       "      <td>{'priors': None}</td>\n",
       "      <td>{'C': 10, 'penalty': 'l2'}</td>\n",
       "      <td>{'C': 1.1, 'kernel': 'linear'}</td>\n",
       "      <td>{'metric': 'minkowski', 'n_neighbors': 40, 'p': 2, 'weights': 'uniform'}</td>\n",
       "      <td>{'bootstrap': False, 'max_features': 28, 'min_samples_leaf': 2, 'min_samples_split': 2, 'n_estimators': 90}</td>\n",
       "      <td>{'min_samples_leaf': 3, 'min_samples_split': 4, 'n_estimators': 100}</td>\n",
       "      <td>{'learning_rate': 0.4, 'max_depth': 4, 'min_samples_split': 3, 'n_estimators': 80}</td>\n",
       "      <td>{'learning_rate': 1, 'n_estimators': 125}</td>\n",
       "      <td>NaN</td>\n",
       "    </tr>\n",
       "    <tr>\n",
       "      <th>Params Tried</th>\n",
       "      <td>{'priors': [None]}</td>\n",
       "      <td>{'penalty': ['l2', 'l1'], 'C': [1, 10, 25, 40, 50, 60, 75, 90, 100, 250]}</td>\n",
       "      <td>{'C': [1.1, 1.15, 1.2, 1.3, 1.5], 'kernel': ['linear', 'poly', 'rbf']}</td>\n",
       "      <td>{'n_neighbors': [25, 40, 50, 75, 100], 'weights': ['distance', 'uniform'], 'metric': ['minkowski'], 'p': [1, 2, 3, 5]}</td>\n",
       "      <td>{'n_estimators': [50, 60, 75, 90, 100, 125], 'min_samples_split': [2, 3, 4, 5], 'min_samples_leaf': [2, 3, 4, 5], 'bootstrap': [False, True], 'max_features': (19, 28, 37, 46, 55)}</td>\n",
       "      <td>{'n_estimators': [50, 75, 100], 'min_samples_split': [4], 'min_samples_leaf': [3]}</td>\n",
       "      <td>{'n_estimators': [60, 70, 80], 'learning_rate': [0.25, 0.4, 0.5, 0.6, 0.75], 'max_depth': [4], 'min_samples_split': [3]}</td>\n",
       "      <td>{'n_estimators': [75, 100, 125, 150, 175], 'learning_rate': [0.1, 0.25, 0.5, 1]}</td>\n",
       "      <td>NaN</td>\n",
       "    </tr>\n",
       "    <tr>\n",
       "      <th>Notes</th>\n",
       "      <td></td>\n",
       "      <td></td>\n",
       "      <td></td>\n",
       "      <td></td>\n",
       "      <td></td>\n",
       "      <td></td>\n",
       "      <td></td>\n",
       "      <td></td>\n",
       "      <td>NaN</td>\n",
       "    </tr>\n",
       "  </tbody>\n",
       "</table>\n",
       "</div>"
      ],
      "text/plain": [
       "                     Naive Bayes  \\\n",
       "Best Params     {'priors': None}   \n",
       "Params Tried  {'priors': [None]}   \n",
       "Notes                              \n",
       "\n",
       "                                                                               Logistic  \\\n",
       "Best Params                                                  {'C': 10, 'penalty': 'l2'}   \n",
       "Params Tried  {'penalty': ['l2', 'l1'], 'C': [1, 10, 25, 40, 50, 60, 75, 90, 100, 250]}   \n",
       "Notes                                                                                     \n",
       "\n",
       "                                                                                 SVM  \\\n",
       "Best Params                                           {'C': 1.1, 'kernel': 'linear'}   \n",
       "Params Tried  {'C': [1.1, 1.15, 1.2, 1.3, 1.5], 'kernel': ['linear', 'poly', 'rbf']}   \n",
       "Notes                                                                                  \n",
       "\n",
       "                                                                                                                                 KNN  \\\n",
       "Best Params                                                 {'metric': 'minkowski', 'n_neighbors': 40, 'p': 2, 'weights': 'uniform'}   \n",
       "Params Tried  {'n_neighbors': [25, 40, 50, 75, 100], 'weights': ['distance', 'uniform'], 'metric': ['minkowski'], 'p': [1, 2, 3, 5]}   \n",
       "Notes                                                                                                                                  \n",
       "\n",
       "                                                                                                                                                                                    Random Forest  \\\n",
       "Best Params                                                                           {'bootstrap': False, 'max_features': 28, 'min_samples_leaf': 2, 'min_samples_split': 2, 'n_estimators': 90}   \n",
       "Params Tried  {'n_estimators': [50, 60, 75, 90, 100, 125], 'min_samples_split': [2, 3, 4, 5], 'min_samples_leaf': [2, 3, 4, 5], 'bootstrap': [False, True], 'max_features': (19, 28, 37, 46, 55)}   \n",
       "Notes                                                                                                                                                                                               \n",
       "\n",
       "                                                                                     Extra Trees  \\\n",
       "Best Params                 {'min_samples_leaf': 3, 'min_samples_split': 4, 'n_estimators': 100}   \n",
       "Params Tried  {'n_estimators': [50, 75, 100], 'min_samples_split': [4], 'min_samples_leaf': [3]}   \n",
       "Notes                                                                                              \n",
       "\n",
       "                                                                                                                        Gradient Boost  \\\n",
       "Best Params                                         {'learning_rate': 0.4, 'max_depth': 4, 'min_samples_split': 3, 'n_estimators': 80}   \n",
       "Params Tried  {'n_estimators': [60, 70, 80], 'learning_rate': [0.25, 0.4, 0.5, 0.6, 0.75], 'max_depth': [4], 'min_samples_split': [3]}   \n",
       "Notes                                                                                                                                    \n",
       "\n",
       "                                                                                      AdaBoost  \\\n",
       "Best Params                                          {'learning_rate': 1, 'n_estimators': 125}   \n",
       "Params Tried  {'n_estimators': [75, 100, 125, 150, 175], 'learning_rate': [0.1, 0.25, 0.5, 1]}   \n",
       "Notes                                                                                            \n",
       "\n",
       "             Ensemble  \n",
       "Best Params       NaN  \n",
       "Params Tried      NaN  \n",
       "Notes             NaN  "
      ]
     },
     "metadata": {},
     "output_type": "display_data"
    },
    {
     "name": "stdout",
     "output_type": "stream",
     "text": [
      "Runtime:  26.566  minutes\n"
     ]
    }
   ],
   "source": [
    "# Display scores from all models\n",
    "display(all_results.head(all_results.shape[0] - 3))\n",
    "\n",
    "# Show which parameters worked best\n",
    "display(all_results.tail(3))\n",
    "\n",
    "# Calculate how long it took to run\n",
    "run_end = time.time()\n",
    "print('Runtime: ', round((run_end - run_start)/60, 3), ' minutes')"
   ]
  },
  {
   "cell_type": "markdown",
   "metadata": {},
   "source": [
    "<hr>"
   ]
  },
  {
   "cell_type": "markdown",
   "metadata": {},
   "source": [
    "<br>"
   ]
  }
 ],
 "metadata": {
  "kernelspec": {
   "display_name": "Python 3",
   "language": "python",
   "name": "python3"
  },
  "language_info": {
   "codemirror_mode": {
    "name": "ipython",
    "version": 3
   },
   "file_extension": ".py",
   "mimetype": "text/x-python",
   "name": "python",
   "nbconvert_exporter": "python",
   "pygments_lexer": "ipython3",
   "version": "3.6.6"
  }
 },
 "nbformat": 4,
 "nbformat_minor": 2
}
